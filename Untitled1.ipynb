{
 "cells": [
  {
   "cell_type": "code",
   "execution_count": null,
   "metadata": {},
   "outputs": [],
   "source": [
    "import os\n",
    "import exifread"
   ]
  },
  {
   "cell_type": "code",
   "execution_count": null,
   "metadata": {},
   "outputs": [],
   "source": [
    "\n",
    " \n",
    "def getExif(filename):\n",
    "    FIELD = 'EXIF DateTimeOriginal'\n",
    "    fd = open(filename, 'rb')\n",
    "    tags = exifread.process_file(fd)\n",
    "    fd.close()\n",
    "    if FIELD in tags:\n",
    "        new_name = str(tags[FIELD]).replace(':', '').replace(' ', '_') + os.path.splitext(filename)[1]\n",
    "        tot = 1\n",
    "        while os.path.exists(new_name):\n",
    "            new_name = str(tags[FIELD]).replace(':', '').replace(' ', '_') + '_' + str(tot) + os.path.splitext(filename)[1]\n",
    "            tot += 1\n",
    " \n",
    "        new_name2 = new_name.split(\".\")[0] + '__' +filename\n",
    "        print(new_name2)    \n",
    "        os.rename(filename, new_name2)\n",
    "    else:\n",
    "        print('No {} found'.format(FIELD))\n",
    " \n",
    "for filename in os.listdir('.'):\n",
    "    if os.path.isfile(filename):\n",
    "        getExif(filename)"
   ]
  }
 ],
 "metadata": {
  "kernelspec": {
   "display_name": "Python 3",
   "language": "python",
   "name": "python3"
  },
  "language_info": {
   "codemirror_mode": {
    "name": "ipython",
    "version": 3
   },
   "file_extension": ".py",
   "mimetype": "text/x-python",
   "name": "python",
   "nbconvert_exporter": "python",
   "pygments_lexer": "ipython3",
   "version": "3.6.5"
  }
 },
 "nbformat": 4,
 "nbformat_minor": 2
}
